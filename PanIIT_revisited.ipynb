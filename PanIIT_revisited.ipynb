{
  "nbformat": 4,
  "nbformat_minor": 0,
  "metadata": {
    "colab": {
      "name": "PanIIT_revisited.ipynb",
      "version": "0.3.2",
      "provenance": [],
      "collapsed_sections": []
    },
    "kernelspec": {
      "name": "python3",
      "display_name": "Python 3"
    },
    "accelerator": "GPU"
  },
  "cells": [
    {
      "cell_type": "code",
      "metadata": {
        "id": "cIBZivG1bMr6",
        "colab_type": "code",
        "colab": {}
      },
      "source": [
        "!wget \"https://cdn.skillenza.com/files/5ee0a2e1-bf6d-4173-8244-e75fa2d7bbe2/training.5k.zip\""
      ],
      "execution_count": 0,
      "outputs": []
    },
    {
      "cell_type": "code",
      "metadata": {
        "id": "13a73HMsb-C5",
        "colab_type": "code",
        "colab": {}
      },
      "source": [
        "!wget \"https://cdn.skillenza.com/files/7da538a3-4db6-46ea-a4f8-87a21368e5f5/testing.40k.zip\""
      ],
      "execution_count": 0,
      "outputs": []
    },
    {
      "cell_type": "code",
      "metadata": {
        "id": "2qtOvXN7cU7p",
        "colab_type": "code",
        "colab": {}
      },
      "source": [
        "!unzip \"training.5k.zip\""
      ],
      "execution_count": 0,
      "outputs": []
    },
    {
      "cell_type": "code",
      "metadata": {
        "id": "9qFYpXIXcjNO",
        "colab_type": "code",
        "colab": {}
      },
      "source": [
        "!unzip \"testing.40k.zip\""
      ],
      "execution_count": 0,
      "outputs": []
    },
    {
      "cell_type": "code",
      "metadata": {
        "id": "n62bj5Vdc4D3",
        "colab_type": "code",
        "colab": {}
      },
      "source": [
        "import pandas as pd\n",
        "import numpy as np"
      ],
      "execution_count": 0,
      "outputs": []
    },
    {
      "cell_type": "code",
      "metadata": {
        "id": "001siStvc6Ec",
        "colab_type": "code",
        "colab": {}
      },
      "source": [
        "sol = pd.read_csv(\"/content/training/solution.csv\")"
      ],
      "execution_count": 0,
      "outputs": []
    },
    {
      "cell_type": "code",
      "metadata": {
        "id": "iggbR4USdWsZ",
        "colab_type": "code",
        "colab": {}
      },
      "source": [
        "sol.category = sol.category -1"
      ],
      "execution_count": 0,
      "outputs": []
    },
    {
      "cell_type": "code",
      "metadata": {
        "id": "JxCwUnwOg8ur",
        "colab_type": "code",
        "outputId": "6ce19b8a-f2fb-4151-f490-1bef97159b3b",
        "colab": {
          "base_uri": "https://localhost:8080/",
          "height": 266
        }
      },
      "source": [
        "sol.groupby(['category']).count()"
      ],
      "execution_count": 0,
      "outputs": [
        {
          "output_type": "execute_result",
          "data": {
            "text/html": [
              "<div>\n",
              "<style scoped>\n",
              "    .dataframe tbody tr th:only-of-type {\n",
              "        vertical-align: middle;\n",
              "    }\n",
              "\n",
              "    .dataframe tbody tr th {\n",
              "        vertical-align: top;\n",
              "    }\n",
              "\n",
              "    .dataframe thead th {\n",
              "        text-align: right;\n",
              "    }\n",
              "</style>\n",
              "<table border=\"1\" class=\"dataframe\">\n",
              "  <thead>\n",
              "    <tr style=\"text-align: right;\">\n",
              "      <th></th>\n",
              "      <th>id</th>\n",
              "    </tr>\n",
              "    <tr>\n",
              "      <th>category</th>\n",
              "      <th></th>\n",
              "    </tr>\n",
              "  </thead>\n",
              "  <tbody>\n",
              "    <tr>\n",
              "      <th>0</th>\n",
              "      <td>836</td>\n",
              "    </tr>\n",
              "    <tr>\n",
              "      <th>1</th>\n",
              "      <td>778</td>\n",
              "    </tr>\n",
              "    <tr>\n",
              "      <th>2</th>\n",
              "      <td>831</td>\n",
              "    </tr>\n",
              "    <tr>\n",
              "      <th>3</th>\n",
              "      <td>865</td>\n",
              "    </tr>\n",
              "    <tr>\n",
              "      <th>4</th>\n",
              "      <td>847</td>\n",
              "    </tr>\n",
              "    <tr>\n",
              "      <th>5</th>\n",
              "      <td>843</td>\n",
              "    </tr>\n",
              "  </tbody>\n",
              "</table>\n",
              "</div>"
            ],
            "text/plain": [
              "           id\n",
              "category     \n",
              "0         836\n",
              "1         778\n",
              "2         831\n",
              "3         865\n",
              "4         847\n",
              "5         843"
            ]
          },
          "metadata": {
            "tags": []
          },
          "execution_count": 8
        }
      ]
    },
    {
      "cell_type": "code",
      "metadata": {
        "id": "VNBg2QX3es_P",
        "colab_type": "code",
        "colab": {}
      },
      "source": [
        "!mkdir new_dir"
      ],
      "execution_count": 0,
      "outputs": []
    },
    {
      "cell_type": "code",
      "metadata": {
        "id": "iwwxcrVVebnK",
        "colab_type": "code",
        "colab": {}
      },
      "source": [
        "import os\n",
        "import cv2"
      ],
      "execution_count": 0,
      "outputs": []
    },
    {
      "cell_type": "code",
      "metadata": {
        "id": "881XGg2de_Wv",
        "colab_type": "code",
        "colab": {}
      },
      "source": [
        "ORIG_INPUT_Train = \"/content/training/training\"\n",
        "BASE_PATH = \"/content/new_dir\"\n",
        "ORIG_INPUT_Test =\"/content/testing\"\n",
        " \n",
        "TRAIN_PATH = os.path.sep.join([BASE_PATH, \"training\"])\n",
        "VAL_PATH = os.path.sep.join([BASE_PATH, \"validation\"])\n",
        "TEST_PATH = os.path.sep.join([BASE_PATH, \"testing\"])\n",
        " \n",
        "VAL_SPLIT = 0.12"
      ],
      "execution_count": 0,
      "outputs": []
    },
    {
      "cell_type": "code",
      "metadata": {
        "id": "Cers5h-Rf3xH",
        "colab_type": "code",
        "colab": {}
      },
      "source": [
        "from imutils import paths\n",
        "import random\n",
        "import shutil\n",
        "import imutils"
      ],
      "execution_count": 0,
      "outputs": []
    },
    {
      "cell_type": "code",
      "metadata": {
        "id": "eXZf9-VIlCrf",
        "colab_type": "code",
        "colab": {}
      },
      "source": [
        "from skimage import color"
      ],
      "execution_count": 0,
      "outputs": []
    },
    {
      "cell_type": "code",
      "metadata": {
        "id": "TC5n8HJ1f-Xm",
        "colab_type": "code",
        "outputId": "d38523cb-2ba1-4a90-b63c-e3b3b4121771",
        "colab": {
          "base_uri": "https://localhost:8080/",
          "height": 34
        }
      },
      "source": [
        "list(paths.list_images(ORIG_INPUT_Train))[0].split(os.path.sep)[-1]"
      ],
      "execution_count": 0,
      "outputs": [
        {
          "output_type": "execute_result",
          "data": {
            "text/plain": [
              "'2343.png'"
            ]
          },
          "metadata": {
            "tags": []
          },
          "execution_count": 13
        }
      ]
    },
    {
      "cell_type": "code",
      "metadata": {
        "id": "NUnykvhagcIW",
        "colab_type": "code",
        "colab": {}
      },
      "source": [
        "trainPaths = list(paths.list_images(ORIG_INPUT_Train))\n",
        "random.seed(42)\n",
        "random.shuffle(trainPaths)\n",
        "i = int(len(trainPaths) * VAL_SPLIT)\n",
        "valPaths = trainPaths[:i]\n",
        "trainPaths = trainPaths[i:]\n",
        "testPaths = list(paths.list_images(ORIG_INPUT_Test))"
      ],
      "execution_count": 0,
      "outputs": []
    },
    {
      "cell_type": "code",
      "metadata": {
        "id": "vlc0gB9DgmZl",
        "colab_type": "code",
        "outputId": "ef3c1735-a010-4a2b-ca89-2da27c63a513",
        "colab": {
          "base_uri": "https://localhost:8080/",
          "height": 34
        }
      },
      "source": [
        "len(trainPaths) , len(valPaths), len(testPaths)"
      ],
      "execution_count": 0,
      "outputs": [
        {
          "output_type": "execute_result",
          "data": {
            "text/plain": [
              "(4400, 600, 40000)"
            ]
          },
          "metadata": {
            "tags": []
          },
          "execution_count": 15
        }
      ]
    },
    {
      "cell_type": "code",
      "metadata": {
        "id": "chBmH2s0ieta",
        "colab_type": "code",
        "outputId": "f2c73ef9-3d57-442d-8124-6e5216ce9aca",
        "colab": {
          "base_uri": "https://localhost:8080/",
          "height": 34
        }
      },
      "source": [
        "str(list(sol[sol.id == int(trainPaths[0].split(os.path.sep)[-1].split(\".\")[-2])]['category'])[0])"
      ],
      "execution_count": 0,
      "outputs": [
        {
          "output_type": "execute_result",
          "data": {
            "text/plain": [
              "'0'"
            ]
          },
          "metadata": {
            "tags": []
          },
          "execution_count": 16
        }
      ]
    },
    {
      "cell_type": "code",
      "metadata": {
        "id": "eBFWM70R7sM4",
        "colab_type": "code",
        "outputId": "5eb865b3-c519-4252-abbb-7eafc8e37213",
        "colab": {
          "base_uri": "https://localhost:8080/",
          "height": 34
        }
      },
      "source": [
        "trainPaths[0]"
      ],
      "execution_count": 0,
      "outputs": [
        {
          "output_type": "execute_result",
          "data": {
            "text/plain": [
              "'/content/training/training/4427.png'"
            ]
          },
          "metadata": {
            "tags": []
          },
          "execution_count": 17
        }
      ]
    },
    {
      "cell_type": "code",
      "metadata": {
        "id": "QnpoDG5zh8Vf",
        "colab_type": "code",
        "colab": {}
      },
      "source": [
        "datasets_train_val = [\n",
        "\t( trainPaths, TRAIN_PATH),\n",
        "\t(valPaths, VAL_PATH)\n",
        "]\n",
        "\n",
        "\n",
        "for (imagePaths, baseOutput) in datasets_train_val:\n",
        "\n",
        "\t# if the output base output directory does not exist, creating it\n",
        "\tif not os.path.exists(baseOutput):\n",
        "\t\tos.makedirs(baseOutput)\n",
        "\n",
        "\t# loop over the input image paths\n",
        "\tfor inputPath in imagePaths:\n",
        "\t\tfilename = inputPath.split(os.path.sep)[-1]\n",
        "\t\tlabel = str(list(sol[sol.id == int(filename.split(\".\")[-2])]['category'])[0])\n",
        "\n",
        "\t\t# build the path to the label directory\n",
        "\t\tlabelPath = os.path.sep.join([baseOutput, label])\n",
        "\n",
        "\t\t# if the label output directory does not exist, creating it\n",
        "\t\tif not os.path.exists(labelPath):\n",
        "\t\t\tos.makedirs(labelPath)\n",
        "\n",
        "\t\tp = os.path.sep.join([labelPath, filename])\n",
        "\t\tshutil.copy2(inputPath, p)"
      ],
      "execution_count": 0,
      "outputs": []
    },
    {
      "cell_type": "code",
      "metadata": {
        "id": "myCE2JkSAPd1",
        "colab_type": "code",
        "colab": {}
      },
      "source": [
        "os.makedirs(TEST_PATH)\n",
        "labelPath = os.path.sep.join([TEST_PATH,\"test\"])\n",
        "os.makedirs(labelPath)\n",
        "for inputPath in testPaths:\n",
        "  filename = inputPath.split(os.path.sep)[-1]\t\n",
        "  p = os.path.sep.join([labelPath, filename])\n",
        "  shutil.copy2(inputPath,p)"
      ],
      "execution_count": 0,
      "outputs": []
    },
    {
      "cell_type": "code",
      "metadata": {
        "id": "nRi5KZ2wmaVm",
        "colab_type": "code",
        "colab": {}
      },
      "source": [
        "from google.colab.patches import cv2_imshow"
      ],
      "execution_count": 0,
      "outputs": []
    },
    {
      "cell_type": "code",
      "metadata": {
        "id": "AAlxIdmaoHBc",
        "colab_type": "code",
        "colab": {}
      },
      "source": [
        "def pf(img):\n",
        "  #gray = cv2.cvtColor(img, cv2.COLOR_BGR2GRAY)\n",
        "  #gray = cv2.medianBlur(img , 5)\n",
        "  k = cv2.filter2D(img, -1, np.ones((3,3), np.float32)/10)\n",
        "  k = cv2.morphologyEx(k, cv2.MORPH_OPEN, np.ones((5,6), np.uint8))\n",
        "  k = color.rgb2gray(k) < color.rgb2gray(k).mean()\n",
        "  k = k.astype(np.uint8)\n",
        "  cnts= cv2.findContours(k, cv2.RETR_EXTERNAL,\n",
        "                                cv2.CHAIN_APPROX_SIMPLE)\n",
        "  cnts = imutils.grab_contours(cnts)\n",
        "  cnts = sorted(cnts, key=cv2.contourArea, reverse=True)\n",
        "  x, y, w, h = cv2.boundingRect(cnts[0])\n",
        "  img1 = img[y:y+h, x:x+w]\n",
        "  img1 = cv2.resize(img1,(128, 128))\n",
        "  img1 = img1.reshape((128,128,-1))\n",
        "  return img1\n",
        "  "
      ],
      "execution_count": 0,
      "outputs": []
    },
    {
      "cell_type": "code",
      "metadata": {
        "id": "WOa79TJao4sn",
        "colab_type": "code",
        "colab": {}
      },
      "source": [
        "cv2_imshow(pf(cv2.imread(\"/content/training/training/1.png\")))\n",
        "cv2.waitKey(0)"
      ],
      "execution_count": 0,
      "outputs": []
    },
    {
      "cell_type": "code",
      "metadata": {
        "id": "tz_8vVfBvoVs",
        "colab_type": "code",
        "outputId": "74c3c5bb-3497-4377-bccb-326c34f5edf6",
        "colab": {
          "base_uri": "https://localhost:8080/",
          "height": 34
        }
      },
      "source": [
        "pf(cv2.imread(\"/content/training/training/1.png\")).shape"
      ],
      "execution_count": 0,
      "outputs": [
        {
          "output_type": "execute_result",
          "data": {
            "text/plain": [
              "(160, 160, 3)"
            ]
          },
          "metadata": {
            "tags": []
          },
          "execution_count": 21
        }
      ]
    },
    {
      "cell_type": "code",
      "metadata": {
        "id": "FJMsMQczplmF",
        "colab_type": "code",
        "outputId": "b384066a-f10a-4361-b58f-575e43888645",
        "colab": {
          "base_uri": "https://localhost:8080/",
          "height": 452
        }
      },
      "source": [
        "cv2_imshow(cv2.imread(\"/content/training/training/1.png\"))\n",
        "cv2.waitKey(0)"
      ],
      "execution_count": 0,
      "outputs": [
        {
          "output_type": "display_data",
          "data": {
            "image/png": "[encoded data removed]",
            "text/plain": [
              "<PIL.Image.Image image mode=RGB size=311x418 at 0x7FCEDCD57710>"
            ]
          },
          "metadata": {
            "tags": []
          }
        },
        {
          "output_type": "execute_result",
          "data": {
            "text/plain": [
              "-1"
            ]
          },
          "metadata": {
            "tags": []
          },
          "execution_count": 20
        }
      ]
    },
    {
      "cell_type": "code",
      "metadata": {
        "id": "FyiVIOcb4yN-",
        "colab_type": "code",
        "outputId": "2ede7553-9587-4ba4-ccb7-27becaefe1a3",
        "colab": {
          "base_uri": "https://localhost:8080/",
          "height": 34
        }
      },
      "source": [
        "from keras.layers.normalization import BatchNormalization\n",
        "from keras.layers.convolutional import Conv2D\n",
        "from keras.layers.convolutional import AveragePooling2D\n",
        "from keras.layers.convolutional import MaxPooling2D\n",
        "from keras.layers.convolutional import ZeroPadding2D\n",
        "from keras.layers.core import Activation\n",
        "from keras.layers.core import Dense\n",
        "from keras.layers import Flatten\n",
        "from keras.layers import Input\n",
        "from keras.models import Model\n",
        "from keras.layers import add\n",
        "from keras.regularizers import l2\n",
        "from keras import backend as K"
      ],
      "execution_count": 0,
      "outputs": [
        {
          "output_type": "stream",
          "text": [
            "Using TensorFlow backend.\n"
          ],
          "name": "stderr"
        }
      ]
    },
    {
      "cell_type": "code",
      "metadata": {
        "id": "_npcQwh-4h0u",
        "colab_type": "code",
        "colab": {}
      },
      "source": [
        "from keras.preprocessing.image import ImageDataGenerator\n",
        "from keras.callbacks import LearningRateScheduler\n",
        "from keras.optimizers import SGD\n",
        "import numpy as np"
      ],
      "execution_count": 0,
      "outputs": []
    },
    {
      "cell_type": "code",
      "metadata": {
        "id": "omD7jddgBQZD",
        "colab_type": "code",
        "colab": {}
      },
      "source": [
        "NUM_EPOCHS = 50\n",
        "Batch = 32"
      ],
      "execution_count": 0,
      "outputs": []
    },
    {
      "cell_type": "code",
      "metadata": {
        "id": "x8iRuJApFa-3",
        "colab_type": "code",
        "colab": {}
      },
      "source": [
        "totalTrain = len(list(paths.list_images(TRAIN_PATH)))\n",
        "totalVal = len(list(paths.list_images(VAL_PATH)))\n",
        "totalTest = len(list(paths.list_images(TEST_PATH)))"
      ],
      "execution_count": 0,
      "outputs": []
    },
    {
      "cell_type": "code",
      "metadata": {
        "id": "n5Gh_n4NAYer",
        "colab_type": "code",
        "colab": {}
      },
      "source": [
        "trainAug = ImageDataGenerator(preprocessing_function= pf)"
      ],
      "execution_count": 0,
      "outputs": []
    },
    {
      "cell_type": "code",
      "metadata": {
        "id": "MvebxZerAszs",
        "colab_type": "code",
        "colab": {}
      },
      "source": [
        "valAug = ImageDataGenerator(preprocessing_function = pf)\n",
        "testAug = ImageDataGenerator(preprocessing_function = pf)"
      ],
      "execution_count": 0,
      "outputs": []
    },
    {
      "cell_type": "code",
      "metadata": {
        "id": "YwqIYXoTA5_Y",
        "colab_type": "code",
        "outputId": "d72d0bed-66f1-4ac2-a3a4-10eddc902299",
        "colab": {
          "base_uri": "https://localhost:8080/",
          "height": 34
        }
      },
      "source": [
        "trainGen = trainAug.flow_from_directory(\n",
        "\tTRAIN_PATH,\n",
        "\tclass_mode=\"categorical\",\n",
        "\ttarget_size=(128, 128),\n",
        "\tcolor_mode=\"grayscale\",\n",
        "\tshuffle=True,\n",
        "\tbatch_size= Batch)"
      ],
      "execution_count": 0,
      "outputs": [
        {
          "output_type": "stream",
          "text": [
            "Found 4400 images belonging to 6 classes.\n"
          ],
          "name": "stdout"
        }
      ]
    },
    {
      "cell_type": "code",
      "metadata": {
        "id": "oXAZkeSNBf1m",
        "colab_type": "code",
        "outputId": "c1b8f4a3-dd2d-4596-e1fb-194c6a7eba21",
        "colab": {
          "base_uri": "https://localhost:8080/",
          "height": 34
        }
      },
      "source": [
        "valGen = valAug.flow_from_directory(\n",
        "\tVAL_PATH,\n",
        "\tclass_mode=\"categorical\",\n",
        "\ttarget_size=(128, 128),\n",
        "\tcolor_mode=\"grayscale\",\n",
        "\tshuffle=False,\n",
        "\tbatch_size=Batch)"
      ],
      "execution_count": 0,
      "outputs": [
        {
          "output_type": "stream",
          "text": [
            "Found 600 images belonging to 6 classes.\n"
          ],
          "name": "stdout"
        }
      ]
    },
    {
      "cell_type": "code",
      "metadata": {
        "id": "UPjw6kTUBnen",
        "colab_type": "code",
        "outputId": "fddd316e-35b9-4054-d1ea-7e871668c6ca",
        "colab": {
          "base_uri": "https://localhost:8080/",
          "height": 34
        }
      },
      "source": [
        "testGen = testAug.flow_from_directory(\n",
        "\tTEST_PATH,\n",
        "\tclass_mode=\"categorical\",\n",
        "\ttarget_size=(128, 128),\n",
        "\tcolor_mode=\"grayscale\",\n",
        "\tshuffle=False,\n",
        "\tbatch_size=Batch)"
      ],
      "execution_count": 0,
      "outputs": [
        {
          "output_type": "stream",
          "text": [
            "Found 40000 images belonging to 1 classes.\n"
          ],
          "name": "stdout"
        }
      ]
    },
    {
      "cell_type": "code",
      "metadata": {
        "id": "hgOCGS-cEc1N",
        "colab_type": "code",
        "colab": {}
      },
      "source": [
        "from keras.layers.core import Dropout\n",
        "from keras.layers.core import Flatten\n",
        "from keras.layers.core import Dense\n",
        "from keras.layers import Input\n",
        "from keras.models import Model\n",
        "from keras.optimizers import SGD"
      ],
      "execution_count": 0,
      "outputs": []
    },
    {
      "cell_type": "code",
      "metadata": {
        "id": "zDqvZ42vbYrf",
        "colab_type": "code",
        "colab": {}
      },
      "source": [
        "def main_block(x, filters, n, strides, dropout):\n",
        "\t# Normal part\n",
        "\tx_res = Conv2D(filters, (3,3), strides=strides, padding=\"same\")(x)\n",
        "\tx_res = BatchNormalization()(x_res)\n",
        "\tx_res = Activation('relu')(x_res)\n",
        "\tx_res = Conv2D(filters, (3,3), padding=\"same\")(x_res)\n",
        "\t# Alternative branch\n",
        "\tx = Conv2D(filters, (1,1), strides=strides)(x)\n",
        "\t# Merge Branches\n",
        "\tx = add([x_res, x])\n",
        "\n",
        "\tfor i in range(n-1):\n",
        "\t\t# Residual conection\n",
        "\t\tx_res = BatchNormalization()(x)\n",
        "\t\tx_res = Activation('relu')(x_res)\n",
        "\t\tx_res = Conv2D(filters, (3,3), padding=\"same\")(x_res)\n",
        "\t\t# Apply dropout if given\n",
        "\t\tif dropout: x_res = Dropout(dropout)(x)\n",
        "\t\t# Second part\n",
        "\t\tx_res = BatchNormalization()(x_res)\n",
        "\t\tx_res = Activation('relu')(x_res)\n",
        "\t\tx_res = Conv2D(filters, (3,3), padding=\"same\")(x_res)\n",
        "\t\t# Merge branches\n",
        "\t\tx = add([x, x_res])\n",
        "\n",
        "\t# Inter block part\n",
        "\tx = BatchNormalization()(x)\n",
        "\tx = Activation('relu')(x)\n",
        "\treturn x"
      ],
      "execution_count": 0,
      "outputs": []
    },
    {
      "cell_type": "code",
      "metadata": {
        "id": "HUWi8wpof-Sb",
        "colab_type": "code",
        "colab": {}
      },
      "source": [
        "def build_model(input_dims, output_dim, n, k, act= \"relu\", dropout=None):\n",
        "  \n",
        "\t# Ensure n & k are correct\n",
        "  n = (n-4)//6\n",
        "  # This returns a tensor input to the model\n",
        "  inputs = Input(shape=(input_dims))\n",
        "\n",
        "\t# Head of the model\n",
        "  x = Conv2D(16, (3,3), padding=\"same\")(inputs)\n",
        "  x = BatchNormalization()(x)\n",
        "  x = Activation('relu')(x)\n",
        "  # 3 Blocks (normal-residual)\n",
        "  x = main_block(x, 16*k, n, (1,1), dropout) # 0\n",
        "  x = main_block(x, 32*k, n, (2,2), dropout) # 1\n",
        "  x = main_block(x, 64*k, n, (2,2), dropout) # 2\n",
        "\n",
        "  # Final part of the model\n",
        "  x = AveragePooling2D((8,8))(x)\n",
        "  x = Flatten()(x)\n",
        "  x = Dense(32)(x)\n",
        "  x = Activation('relu')(x)\n",
        "  x = Dense(output_dim)(x)\n",
        "  outputs = Activation(\"softmax\")(x)\n",
        "  model = Model(inputs=inputs, outputs=outputs)\n",
        "  return model"
      ],
      "execution_count": 0,
      "outputs": []
    },
    {
      "cell_type": "code",
      "metadata": {
        "id": "MHW4xjK9h95_",
        "colab_type": "code",
        "colab": {}
      },
      "source": [
        "model = build_model((128,128,1), 6, 22, 4)"
      ],
      "execution_count": 0,
      "outputs": []
    },
    {
      "cell_type": "code",
      "metadata": {
        "id": "pYV6BoFcjWg9",
        "colab_type": "code",
        "outputId": "6cd9d577-9381-4c9e-f745-0288e98c4453",
        "colab": {
          "base_uri": "https://localhost:8080/",
          "height": 2873
        }
      },
      "source": [
        "model.summary()"
      ],
      "execution_count": 0,
      "outputs": [
        {
          "output_type": "stream",
          "text": [
            "__________________________________________________________________________________________________\n",
            "Layer (type)                    Output Shape         Param #     Connected to                     \n",
            "==================================================================================================\n",
            "input_4 (InputLayer)            (None, 128, 128, 1)  0                                            \n",
            "__________________________________________________________________________________________________\n",
            "conv2d_67 (Conv2D)              (None, 128, 128, 16) 160         input_4[0][0]                    \n",
            "__________________________________________________________________________________________________\n",
            "batch_normalization_58 (BatchNo (None, 128, 128, 16) 64          conv2d_67[0][0]                  \n",
            "__________________________________________________________________________________________________\n",
            "activation_62 (Activation)      (None, 128, 128, 16) 0           batch_normalization_58[0][0]     \n",
            "__________________________________________________________________________________________________\n",
            "conv2d_68 (Conv2D)              (None, 128, 128, 64) 9280        activation_62[0][0]              \n",
            "__________________________________________________________________________________________________\n",
            "batch_normalization_59 (BatchNo (None, 128, 128, 64) 256         conv2d_68[0][0]                  \n",
            "__________________________________________________________________________________________________\n",
            "activation_63 (Activation)      (None, 128, 128, 64) 0           batch_normalization_59[0][0]     \n",
            "__________________________________________________________________________________________________\n",
            "conv2d_69 (Conv2D)              (None, 128, 128, 64) 36928       activation_63[0][0]              \n",
            "__________________________________________________________________________________________________\n",
            "conv2d_70 (Conv2D)              (None, 128, 128, 64) 1088        activation_62[0][0]              \n",
            "__________________________________________________________________________________________________\n",
            "add_28 (Add)                    (None, 128, 128, 64) 0           conv2d_69[0][0]                  \n",
            "                                                                 conv2d_70[0][0]                  \n",
            "__________________________________________________________________________________________________\n",
            "batch_normalization_60 (BatchNo (None, 128, 128, 64) 256         add_28[0][0]                     \n",
            "__________________________________________________________________________________________________\n",
            "activation_64 (Activation)      (None, 128, 128, 64) 0           batch_normalization_60[0][0]     \n",
            "__________________________________________________________________________________________________\n",
            "conv2d_71 (Conv2D)              (None, 128, 128, 64) 36928       activation_64[0][0]              \n",
            "__________________________________________________________________________________________________\n",
            "batch_normalization_61 (BatchNo (None, 128, 128, 64) 256         conv2d_71[0][0]                  \n",
            "__________________________________________________________________________________________________\n",
            "activation_65 (Activation)      (None, 128, 128, 64) 0           batch_normalization_61[0][0]     \n",
            "__________________________________________________________________________________________________\n",
            "conv2d_72 (Conv2D)              (None, 128, 128, 64) 36928       activation_65[0][0]              \n",
            "__________________________________________________________________________________________________\n",
            "add_29 (Add)                    (None, 128, 128, 64) 0           add_28[0][0]                     \n",
            "                                                                 conv2d_72[0][0]                  \n",
            "__________________________________________________________________________________________________\n",
            "batch_normalization_62 (BatchNo (None, 128, 128, 64) 256         add_29[0][0]                     \n",
            "__________________________________________________________________________________________________\n",
            "activation_66 (Activation)      (None, 128, 128, 64) 0           batch_normalization_62[0][0]     \n",
            "__________________________________________________________________________________________________\n",
            "conv2d_73 (Conv2D)              (None, 128, 128, 64) 36928       activation_66[0][0]              \n",
            "__________________________________________________________________________________________________\n",
            "batch_normalization_63 (BatchNo (None, 128, 128, 64) 256         conv2d_73[0][0]                  \n",
            "__________________________________________________________________________________________________\n",
            "activation_67 (Activation)      (None, 128, 128, 64) 0           batch_normalization_63[0][0]     \n",
            "__________________________________________________________________________________________________\n",
            "conv2d_74 (Conv2D)              (None, 128, 128, 64) 36928       activation_67[0][0]              \n",
            "__________________________________________________________________________________________________\n",
            "add_30 (Add)                    (None, 128, 128, 64) 0           add_29[0][0]                     \n",
            "                                                                 conv2d_74[0][0]                  \n",
            "__________________________________________________________________________________________________\n",
            "batch_normalization_64 (BatchNo (None, 128, 128, 64) 256         add_30[0][0]                     \n",
            "__________________________________________________________________________________________________\n",
            "activation_68 (Activation)      (None, 128, 128, 64) 0           batch_normalization_64[0][0]     \n",
            "__________________________________________________________________________________________________\n",
            "conv2d_75 (Conv2D)              (None, 64, 64, 128)  73856       activation_68[0][0]              \n",
            "__________________________________________________________________________________________________\n",
            "batch_normalization_65 (BatchNo (None, 64, 64, 128)  512         conv2d_75[0][0]                  \n",
            "__________________________________________________________________________________________________\n",
            "activation_69 (Activation)      (None, 64, 64, 128)  0           batch_normalization_65[0][0]     \n",
            "__________________________________________________________________________________________________\n",
            "conv2d_76 (Conv2D)              (None, 64, 64, 128)  147584      activation_69[0][0]              \n",
            "__________________________________________________________________________________________________\n",
            "conv2d_77 (Conv2D)              (None, 64, 64, 128)  8320        activation_68[0][0]              \n",
            "__________________________________________________________________________________________________\n",
            "add_31 (Add)                    (None, 64, 64, 128)  0           conv2d_76[0][0]                  \n",
            "                                                                 conv2d_77[0][0]                  \n",
            "__________________________________________________________________________________________________\n",
            "batch_normalization_66 (BatchNo (None, 64, 64, 128)  512         add_31[0][0]                     \n",
            "__________________________________________________________________________________________________\n",
            "activation_70 (Activation)      (None, 64, 64, 128)  0           batch_normalization_66[0][0]     \n",
            "__________________________________________________________________________________________________\n",
            "conv2d_78 (Conv2D)              (None, 64, 64, 128)  147584      activation_70[0][0]              \n",
            "__________________________________________________________________________________________________\n",
            "batch_normalization_67 (BatchNo (None, 64, 64, 128)  512         conv2d_78[0][0]                  \n",
            "__________________________________________________________________________________________________\n",
            "activation_71 (Activation)      (None, 64, 64, 128)  0           batch_normalization_67[0][0]     \n",
            "__________________________________________________________________________________________________\n",
            "conv2d_79 (Conv2D)              (None, 64, 64, 128)  147584      activation_71[0][0]              \n",
            "__________________________________________________________________________________________________\n",
            "add_32 (Add)                    (None, 64, 64, 128)  0           add_31[0][0]                     \n",
            "                                                                 conv2d_79[0][0]                  \n",
            "__________________________________________________________________________________________________\n",
            "batch_normalization_68 (BatchNo (None, 64, 64, 128)  512         add_32[0][0]                     \n",
            "__________________________________________________________________________________________________\n",
            "activation_72 (Activation)      (None, 64, 64, 128)  0           batch_normalization_68[0][0]     \n",
            "__________________________________________________________________________________________________\n",
            "conv2d_80 (Conv2D)              (None, 64, 64, 128)  147584      activation_72[0][0]              \n",
            "__________________________________________________________________________________________________\n",
            "batch_normalization_69 (BatchNo (None, 64, 64, 128)  512         conv2d_80[0][0]                  \n",
            "__________________________________________________________________________________________________\n",
            "activation_73 (Activation)      (None, 64, 64, 128)  0           batch_normalization_69[0][0]     \n",
            "__________________________________________________________________________________________________\n",
            "conv2d_81 (Conv2D)              (None, 64, 64, 128)  147584      activation_73[0][0]              \n",
            "__________________________________________________________________________________________________\n",
            "add_33 (Add)                    (None, 64, 64, 128)  0           add_32[0][0]                     \n",
            "                                                                 conv2d_81[0][0]                  \n",
            "__________________________________________________________________________________________________\n",
            "batch_normalization_70 (BatchNo (None, 64, 64, 128)  512         add_33[0][0]                     \n",
            "__________________________________________________________________________________________________\n",
            "activation_74 (Activation)      (None, 64, 64, 128)  0           batch_normalization_70[0][0]     \n",
            "__________________________________________________________________________________________________\n",
            "conv2d_82 (Conv2D)              (None, 32, 32, 256)  295168      activation_74[0][0]              \n",
            "__________________________________________________________________________________________________\n",
            "batch_normalization_71 (BatchNo (None, 32, 32, 256)  1024        conv2d_82[0][0]                  \n",
            "__________________________________________________________________________________________________\n",
            "activation_75 (Activation)      (None, 32, 32, 256)  0           batch_normalization_71[0][0]     \n",
            "__________________________________________________________________________________________________\n",
            "conv2d_83 (Conv2D)              (None, 32, 32, 256)  590080      activation_75[0][0]              \n",
            "__________________________________________________________________________________________________\n",
            "conv2d_84 (Conv2D)              (None, 32, 32, 256)  33024       activation_74[0][0]              \n",
            "__________________________________________________________________________________________________\n",
            "add_34 (Add)                    (None, 32, 32, 256)  0           conv2d_83[0][0]                  \n",
            "                                                                 conv2d_84[0][0]                  \n",
            "__________________________________________________________________________________________________\n",
            "batch_normalization_72 (BatchNo (None, 32, 32, 256)  1024        add_34[0][0]                     \n",
            "__________________________________________________________________________________________________\n",
            "activation_76 (Activation)      (None, 32, 32, 256)  0           batch_normalization_72[0][0]     \n",
            "__________________________________________________________________________________________________\n",
            "conv2d_85 (Conv2D)              (None, 32, 32, 256)  590080      activation_76[0][0]              \n",
            "__________________________________________________________________________________________________\n",
            "batch_normalization_73 (BatchNo (None, 32, 32, 256)  1024        conv2d_85[0][0]                  \n",
            "__________________________________________________________________________________________________\n",
            "activation_77 (Activation)      (None, 32, 32, 256)  0           batch_normalization_73[0][0]     \n",
            "__________________________________________________________________________________________________\n",
            "conv2d_86 (Conv2D)              (None, 32, 32, 256)  590080      activation_77[0][0]              \n",
            "__________________________________________________________________________________________________\n",
            "add_35 (Add)                    (None, 32, 32, 256)  0           add_34[0][0]                     \n",
            "                                                                 conv2d_86[0][0]                  \n",
            "__________________________________________________________________________________________________\n",
            "batch_normalization_74 (BatchNo (None, 32, 32, 256)  1024        add_35[0][0]                     \n",
            "__________________________________________________________________________________________________\n",
            "activation_78 (Activation)      (None, 32, 32, 256)  0           batch_normalization_74[0][0]     \n",
            "__________________________________________________________________________________________________\n",
            "conv2d_87 (Conv2D)              (None, 32, 32, 256)  590080      activation_78[0][0]              \n",
            "__________________________________________________________________________________________________\n",
            "batch_normalization_75 (BatchNo (None, 32, 32, 256)  1024        conv2d_87[0][0]                  \n",
            "__________________________________________________________________________________________________\n",
            "activation_79 (Activation)      (None, 32, 32, 256)  0           batch_normalization_75[0][0]     \n",
            "__________________________________________________________________________________________________\n",
            "conv2d_88 (Conv2D)              (None, 32, 32, 256)  590080      activation_79[0][0]              \n",
            "__________________________________________________________________________________________________\n",
            "add_36 (Add)                    (None, 32, 32, 256)  0           add_35[0][0]                     \n",
            "                                                                 conv2d_88[0][0]                  \n",
            "__________________________________________________________________________________________________\n",
            "batch_normalization_76 (BatchNo (None, 32, 32, 256)  1024        add_36[0][0]                     \n",
            "__________________________________________________________________________________________________\n",
            "activation_80 (Activation)      (None, 32, 32, 256)  0           batch_normalization_76[0][0]     \n",
            "__________________________________________________________________________________________________\n",
            "average_pooling2d_4 (AveragePoo (None, 4, 4, 256)    0           activation_80[0][0]              \n",
            "__________________________________________________________________________________________________\n",
            "flatten_4 (Flatten)             (None, 4096)         0           average_pooling2d_4[0][0]        \n",
            "__________________________________________________________________________________________________\n",
            "dense_5 (Dense)                 (None, 32)           131104      flatten_4[0][0]                  \n",
            "__________________________________________________________________________________________________\n",
            "activation_81 (Activation)      (None, 32)           0           dense_5[0][0]                    \n",
            "__________________________________________________________________________________________________\n",
            "dense_6 (Dense)                 (None, 6)            198         activation_81[0][0]              \n",
            "__________________________________________________________________________________________________\n",
            "activation_82 (Activation)      (None, 6)            0           dense_6[0][0]                    \n",
            "==================================================================================================\n",
            "Total params: 4,435,974\n",
            "Trainable params: 4,430,566\n",
            "Non-trainable params: 5,408\n",
            "__________________________________________________________________________________________________\n"
          ],
          "name": "stdout"
        }
      ]
    },
    {
      "cell_type": "code",
      "metadata": {
        "id": "dZgkMwirjvmw",
        "colab_type": "code",
        "colab": {}
      },
      "source": [
        "model.compile(optimizer=\"adam\" , loss=\"categorical_crossentropy\", metrics=['accuracy'])"
      ],
      "execution_count": 0,
      "outputs": []
    },
    {
      "cell_type": "code",
      "metadata": {
        "id": "9a_nZctMrq6X",
        "colab_type": "code",
        "colab": {}
      },
      "source": [
        "import keras"
      ],
      "execution_count": 0,
      "outputs": []
    },
    {
      "cell_type": "code",
      "metadata": {
        "id": "alTtVqQb_zbR",
        "colab_type": "code",
        "colab": {}
      },
      "source": [
        "#!pip install livelossplot"
      ],
      "execution_count": 0,
      "outputs": []
    },
    {
      "cell_type": "code",
      "metadata": {
        "id": "tsY-H_tP_tvV",
        "colab_type": "code",
        "colab": {}
      },
      "source": [
        "#from livelossplot import PlotLossesKeras"
      ],
      "execution_count": 0,
      "outputs": []
    },
    {
      "cell_type": "code",
      "metadata": {
        "id": "e4ua7WSPjz-j",
        "colab_type": "code",
        "outputId": "fb7051b8-8b5b-412b-e4f7-598f4dde8a43",
        "colab": {
          "base_uri": "https://localhost:8080/",
          "height": 1397
        }
      },
      "source": [
        "H = model.fit_generator(\n",
        "\ttrainGen,\n",
        "\tsteps_per_epoch=totalTrain // Batch,\n",
        "\tvalidation_data=valGen,\n",
        "\tvalidation_steps=totalVal // Batch,\n",
        "\tepochs=NUM_EPOCHS,\n",
        "  callbacks=[keras.callbacks.ModelCheckpoint(\n",
        "                  'Model.val-acc={val_acc:.2f}.val-loss={val_loss:.2f}.h5',\n",
        "                  monitor='val_loss',\n",
        "                  verbose=0,\n",
        "                  save_best_only=True)])"
      ],
      "execution_count": 0,
      "outputs": [
        {
          "output_type": "stream",
          "text": [
            "Epoch 1/40\n",
            "137/137 [==============================] - 82s 597ms/step - loss: 1.6222 - acc: 0.2616 - val_loss: 1.4845 - val_acc: 0.2587\n",
            "Epoch 2/40\n",
            "137/137 [==============================] - 74s 543ms/step - loss: 1.4533 - acc: 0.2769 - val_loss: 5.9161 - val_acc: 0.2007\n",
            "Epoch 3/40\n",
            "137/137 [==============================] - 73s 536ms/step - loss: 1.3739 - acc: 0.3004 - val_loss: 1.7989 - val_acc: 0.2905\n",
            "Epoch 4/40\n",
            "137/137 [==============================] - 74s 542ms/step - loss: 1.3391 - acc: 0.3173 - val_loss: 9.8321 - val_acc: 0.2271\n",
            "Epoch 5/40\n",
            "137/137 [==============================] - 75s 550ms/step - loss: 1.2871 - acc: 0.3278 - val_loss: 2.4879 - val_acc: 0.1602\n",
            "Epoch 6/40\n",
            "137/137 [==============================] - 75s 551ms/step - loss: 1.2381 - acc: 0.3440 - val_loss: 9.2509 - val_acc: 0.1813\n",
            "Epoch 7/40\n",
            "137/137 [==============================] - 76s 553ms/step - loss: 1.1946 - acc: 0.3474 - val_loss: 1.3166 - val_acc: 0.2975\n",
            "Epoch 8/40\n",
            "137/137 [==============================] - 76s 554ms/step - loss: 1.1696 - acc: 0.3522 - val_loss: 1.2212 - val_acc: 0.3275\n",
            "Epoch 9/40\n",
            "137/137 [==============================] - 76s 554ms/step - loss: 1.1405 - acc: 0.3780 - val_loss: 1.1904 - val_acc: 0.3539\n",
            "Epoch 10/40\n",
            "137/137 [==============================] - 76s 554ms/step - loss: 1.1306 - acc: 0.3839 - val_loss: 1.4257 - val_acc: 0.3275\n",
            "Epoch 11/40\n",
            "137/137 [==============================] - 76s 553ms/step - loss: 1.0888 - acc: 0.4466 - val_loss: 1.6309 - val_acc: 0.2570\n",
            "Epoch 12/40\n",
            "137/137 [==============================] - 76s 553ms/step - loss: 0.9208 - acc: 0.5618 - val_loss: 1.2743 - val_acc: 0.4648\n",
            "Epoch 13/40\n",
            "137/137 [==============================] - 76s 554ms/step - loss: 0.6801 - acc: 0.6962 - val_loss: 1.2815 - val_acc: 0.5370\n",
            "Epoch 14/40\n",
            "137/137 [==============================] - 76s 554ms/step - loss: 0.4872 - acc: 0.8027 - val_loss: 1.6614 - val_acc: 0.4701\n",
            "Epoch 15/40\n",
            "137/137 [==============================] - 76s 554ms/step - loss: 0.3299 - acc: 0.8761 - val_loss: 0.5018 - val_acc: 0.8116\n",
            "Epoch 16/40\n",
            "137/137 [==============================] - 76s 554ms/step - loss: 0.2721 - acc: 0.8974 - val_loss: 0.8937 - val_acc: 0.7359\n",
            "Epoch 17/40\n",
            "137/137 [==============================] - 76s 554ms/step - loss: 0.2101 - acc: 0.9247 - val_loss: 0.2663 - val_acc: 0.9014\n",
            "Epoch 18/40\n",
            "137/137 [==============================] - 76s 554ms/step - loss: 0.1711 - acc: 0.9366 - val_loss: 1.0759 - val_acc: 0.7289\n",
            "Epoch 19/40\n",
            "137/137 [==============================] - 76s 554ms/step - loss: 0.1488 - acc: 0.9473 - val_loss: 0.3504 - val_acc: 0.8768\n",
            "Epoch 20/40\n",
            "137/137 [==============================] - 76s 556ms/step - loss: 0.1363 - acc: 0.9500 - val_loss: 3.6404 - val_acc: 0.4219\n",
            "Epoch 21/40\n",
            "137/137 [==============================] - 76s 555ms/step - loss: 0.0968 - acc: 0.9667 - val_loss: 0.4513 - val_acc: 0.8785\n",
            "Epoch 22/40\n",
            "137/137 [==============================] - 76s 556ms/step - loss: 0.1175 - acc: 0.9578 - val_loss: 0.4427 - val_acc: 0.8715\n",
            "Epoch 23/40\n",
            "137/137 [==============================] - 76s 555ms/step - loss: 0.0683 - acc: 0.9767 - val_loss: 0.4986 - val_acc: 0.8556\n",
            "Epoch 24/40\n",
            "137/137 [==============================] - 76s 555ms/step - loss: 0.0958 - acc: 0.9640 - val_loss: 0.7788 - val_acc: 0.8257\n",
            "Epoch 25/40\n",
            "137/137 [==============================] - 76s 554ms/step - loss: 0.0865 - acc: 0.9701 - val_loss: 0.2608 - val_acc: 0.9225\n",
            "Epoch 26/40\n",
            "137/137 [==============================] - 76s 554ms/step - loss: 0.0419 - acc: 0.9872 - val_loss: 0.4144 - val_acc: 0.9120\n",
            "Epoch 27/40\n",
            "137/137 [==============================] - 76s 554ms/step - loss: 0.0572 - acc: 0.9813 - val_loss: 0.5334 - val_acc: 0.8521\n",
            "Epoch 28/40\n",
            "137/137 [==============================] - 76s 554ms/step - loss: 0.0867 - acc: 0.9699 - val_loss: 1.3849 - val_acc: 0.7165\n",
            "Epoch 29/40\n",
            "137/137 [==============================] - 76s 555ms/step - loss: 0.0555 - acc: 0.9822 - val_loss: 2.6179 - val_acc: 0.6268\n",
            "Epoch 30/40\n",
            "137/137 [==============================] - 76s 555ms/step - loss: 0.0316 - acc: 0.9916 - val_loss: 0.1829 - val_acc: 0.9507\n",
            "Epoch 31/40\n",
            "137/137 [==============================] - 76s 554ms/step - loss: 0.0311 - acc: 0.9906 - val_loss: 0.1881 - val_acc: 0.9595\n",
            "Epoch 32/40\n",
            "137/137 [==============================] - 76s 557ms/step - loss: 0.0434 - acc: 0.9872 - val_loss: 0.5411 - val_acc: 0.8926\n",
            "Epoch 33/40\n",
            "137/137 [==============================] - 76s 556ms/step - loss: 0.0638 - acc: 0.9818 - val_loss: 0.2382 - val_acc: 0.9313\n",
            "Epoch 34/40\n",
            "137/137 [==============================] - 76s 556ms/step - loss: 0.0246 - acc: 0.9920 - val_loss: 0.2440 - val_acc: 0.9296\n",
            "Epoch 35/40\n",
            "137/137 [==============================] - 76s 556ms/step - loss: 0.0449 - acc: 0.9843 - val_loss: 0.5803 - val_acc: 0.8592\n",
            "Epoch 36/40\n",
            "137/137 [==============================] - 76s 556ms/step - loss: 0.0849 - acc: 0.9722 - val_loss: 0.4785 - val_acc: 0.9120\n",
            "Epoch 37/40\n",
            "137/137 [==============================] - 76s 556ms/step - loss: 0.0268 - acc: 0.9900 - val_loss: 0.2980 - val_acc: 0.9278\n",
            "Epoch 38/40\n",
            "137/137 [==============================] - 76s 555ms/step - loss: 0.0215 - acc: 0.9916 - val_loss: 0.4321 - val_acc: 0.8891\n",
            "Epoch 39/40\n",
            "137/137 [==============================] - 76s 553ms/step - loss: 0.0267 - acc: 0.9909 - val_loss: 0.1852 - val_acc: 0.9479\n",
            "Epoch 40/40\n",
            "137/137 [==============================] - 76s 552ms/step - loss: 0.0467 - acc: 0.9827 - val_loss: 0.3199 - val_acc: 0.9208\n"
          ],
          "name": "stdout"
        }
      ]
    },
    {
      "cell_type": "code",
      "metadata": {
        "id": "xn_JXmdbNEe_",
        "colab_type": "code",
        "colab": {}
      },
      "source": [
        "import matplotlib.pyplot as plt"
      ],
      "execution_count": 0,
      "outputs": []
    },
    {
      "cell_type": "code",
      "metadata": {
        "id": "re-RI13iNmJP",
        "colab_type": "code",
        "outputId": "f708d85b-dc17-4338-efde-b59e7c73a362",
        "colab": {
          "base_uri": "https://localhost:8080/",
          "height": 312
        }
      },
      "source": [
        "plt.plot(np.arange(0, NUM_EPOCHS), H.history[\"loss\"], label=\"train_loss\")\n",
        "plt.plot(np.arange(0, NUM_EPOCHS), H.history[\"val_loss\"], label=\"val_loss\")\n",
        "plt.title(\"Loss\")\n",
        "plt.xlabel(\"Epochs\")\n",
        "plt.ylabel(\"Loss\")\n",
        "plt.legend(loc=\"best\")"
      ],
      "execution_count": 0,
      "outputs": [
        {
          "output_type": "execute_result",
          "data": {
            "text/plain": [
              "<matplotlib.legend.Legend at 0x7fcab6750048>"
            ]
          },
          "metadata": {
            "tags": []
          },
          "execution_count": 87
        },
        {
          "output_type": "display_data",
          "data": {
            "image/png": "[encoded data removed]",
            "text/plain": [
              "<Figure size 432x288 with 1 Axes>"
            ]
          },
          "metadata": {
            "tags": []
          }
        }
      ]
    },
    {
      "cell_type": "code",
      "metadata": {
        "id": "JPl40kZ2N6wI",
        "colab_type": "code",
        "outputId": "98b7deca-a7a5-4c00-ab47-bd3bdac0c094",
        "colab": {
          "base_uri": "https://localhost:8080/",
          "height": 312
        }
      },
      "source": [
        "plt.plot(np.arange(0, NUM_EPOCHS), H.history[\"acc\"], label=\"train_acc\")\n",
        "plt.plot(np.arange(0, NUM_EPOCHS), H.history[\"val_acc\"], label=\"val_acc\")\n",
        "plt.title(\"Accuracy\")\n",
        "plt.xlabel(\"Epochs\")\n",
        "plt.ylabel(\"Accuacy\")\n",
        "plt.legend(loc=\"best\")"
      ],
      "execution_count": 0,
      "outputs": [
        {
          "output_type": "execute_result",
          "data": {
            "text/plain": [
              "<matplotlib.legend.Legend at 0x7fcabb7d0f28>"
            ]
          },
          "metadata": {
            "tags": []
          },
          "execution_count": 88
        },
        {
          "output_type": "display_data",
          "data": {
            "image/png": "[encoded data removed]",
            "text/plain": [
              "<Figure size 432x288 with 1 Axes>"
            ]
          },
          "metadata": {
            "tags": []
          }
        }
      ]
    },
    {
      "cell_type": "code",
      "metadata": {
        "id": "v7VV9GqDO6nm",
        "colab_type": "code",
        "colab": {}
      },
      "source": [
        "from keras.models import load_model"
      ],
      "execution_count": 0,
      "outputs": []
    },
    {
      "cell_type": "code",
      "metadata": {
        "id": "Zrzc6Q2fqrJX",
        "colab_type": "code",
        "colab": {}
      },
      "source": [
        "model = load_model('/content/Model.val-acc=0.95.val-loss=0.18.h5')"
      ],
      "execution_count": 0,
      "outputs": []
    },
    {
      "cell_type": "code",
      "metadata": {
        "id": "mOmAjARpq6rY",
        "colab_type": "code",
        "colab": {}
      },
      "source": [
        "predId = model.predict_generator(testGen,\n",
        "\tsteps=(totalTest // Batch))\n",
        " "
      ],
      "execution_count": 0,
      "outputs": []
    },
    {
      "cell_type": "code",
      "metadata": {
        "id": "5X0SoUrSs49G",
        "colab_type": "code",
        "colab": {}
      },
      "source": [
        "predId = np.argmax(predId, axis=1)"
      ],
      "execution_count": 0,
      "outputs": []
    },
    {
      "cell_type": "code",
      "metadata": {
        "id": "YqFgNqGgtMtP",
        "colab_type": "code",
        "colab": {}
      },
      "source": [
        "predIds = predId + 1"
      ],
      "execution_count": 0,
      "outputs": []
    },
    {
      "cell_type": "code",
      "metadata": {
        "id": "5xF2bu3htPu7",
        "colab_type": "code",
        "colab": {}
      },
      "source": [
        "import glob"
      ],
      "execution_count": 0,
      "outputs": []
    },
    {
      "cell_type": "code",
      "metadata": {
        "id": "u221GdCsx931",
        "colab_type": "code",
        "colab": {}
      },
      "source": [
        "names = list(paths.list_images('/content/new_dir/testing'))"
      ],
      "execution_count": 0,
      "outputs": []
    },
    {
      "cell_type": "code",
      "metadata": {
        "id": "XQvOA3CsyOOS",
        "colab_type": "code",
        "colab": {}
      },
      "source": [
        "clean_name=[]\n",
        "for name in names:\n",
        "  filename = name.split(os.path.sep)[-1].split(\".\")[-2]\n",
        "  clean_name.append(filename)\n",
        "  "
      ],
      "execution_count": 0,
      "outputs": []
    },
    {
      "cell_type": "code",
      "metadata": {
        "id": "bzkbQWZmzmEZ",
        "colab_type": "code",
        "colab": {}
      },
      "source": [
        ""
      ],
      "execution_count": 0,
      "outputs": []
    }
  ]
}